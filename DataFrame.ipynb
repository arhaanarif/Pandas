{
 "cells": [
  {
   "cell_type": "markdown",
   "metadata": {},
   "source": [
    "#### _DataFrame_\n",
    "- DataFrame is a 2D data structure like a 2D array with table including rows and columns"
   ]
  },
  {
   "cell_type": "code",
   "execution_count": 1,
   "metadata": {},
   "outputs": [
    {
     "name": "stdout",
     "output_type": "stream",
     "text": [
      "       Name  Age Salary\n",
      "0    Arhaan   21   XXXX\n",
      "1     Dayam   23   YYYY\n",
      "2  Abdullah   24   ZZZZ\n",
      "\n",
      "Name      Arhaan\n",
      "Age           21\n",
      "Salary      XXXX\n",
      "Name: 0, dtype: object\n"
     ]
    }
   ],
   "source": [
    "import pandas as pd\n",
    "data = {\n",
    "    \"Name\":[\"Arhaan\",\"Dayam\",\"Abdullah\"],\n",
    "    \"Age\":[21,23,24],\n",
    "    \"Salary\":[\"XXXX\",\"YYYY\",\"ZZZZ\"]\n",
    "}\n",
    "df=pd.DataFrame(data)\n",
    "print(df)\n",
    "print()\n",
    "\n",
    "#! Locate row: Pandas use \"loc[]\" attribute to locate one or more specfied row\n",
    "print(df.loc[0])"
   ]
  }
 ],
 "metadata": {
  "kernelspec": {
   "display_name": "Python 3",
   "language": "python",
   "name": "python3"
  },
  "language_info": {
   "codemirror_mode": {
    "name": "ipython",
    "version": 3
   },
   "file_extension": ".py",
   "mimetype": "text/x-python",
   "name": "python",
   "nbconvert_exporter": "python",
   "pygments_lexer": "ipython3",
   "version": "3.12.1"
  }
 },
 "nbformat": 4,
 "nbformat_minor": 2
}
