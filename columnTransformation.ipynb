{
 "cells": [
  {
   "cell_type": "markdown",
   "metadata": {},
   "source": [
    "#### Column Transformation Part-1\n"
   ]
  },
  {
   "cell_type": "code",
   "execution_count": null,
   "metadata": {},
   "outputs": [],
   "source": [
    "# File exploration\n",
    "\n",
    "#* data=pd.read()\n",
    "\n",
    "#* data.loc[(df[bonus]==0), \"GetBonus\"] = \"no bonus\"\n",
    "#* data.loc[(df[bonus]>0), \"GetBonus\"] = \"bonus\"\n",
    "\n",
    "#! this line of code will create a new column and it will return \"bonus\" if someone getting bonus and\n",
    "#! \"no bonus\" if not getting bonus"
   ]
  },
  {
   "cell_type": "code",
   "execution_count": null,
   "metadata": {},
   "outputs": [],
   "source": [
    "#* \n",
    "#* data['full name']=data['first name'].str.capitalize+\" \"+data['last name'].str.capitalize"
   ]
  }
 ],
 "metadata": {
  "kernelspec": {
   "display_name": "Python 3",
   "language": "python",
   "name": "python3"
  },
  "language_info": {
   "name": "python",
   "version": "3.12.1"
  }
 },
 "nbformat": 4,
 "nbformat_minor": 2
}
