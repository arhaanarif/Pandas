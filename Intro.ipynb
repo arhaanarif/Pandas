{
 "cells": [
  {
   "cell_type": "markdown",
   "metadata": {},
   "source": [
    "# **Pandas**\n",
    "\n",
    "#### Pandas is a python library used for working with datasets. It has functions for analyzing cleaning, exploring and manipulating datasets\n",
    "\n",
    "#### Pandas allows us to analyzie bug data and make conclusions based on statistical theories\n",
    "\n",
    "#### Pandas can clean messy datasets and make them redable and relevant because \"relevant data\" is very much important in data science\n",
    "\n",
    "#### The primary data structures in pandas are the series(1-Dimensional) and DataFrame(2-dimensional)\n",
    "\n",
    "__The name Pandas has a reference to both _Panel Data_ and _Python Data Analysis_ and was created by _Wes McKinnsey_ in 2008__\n",
    "\n",
    "\n",
    "#### Uses of Pandas\n",
    "- Data cleaning\n",
    "- Data Transformation\n",
    "- Data Analysis\n",
    "- Data Visualization\n",
    "- Time Series Analysis"
   ]
  },
  {
   "cell_type": "code",
   "execution_count": 1,
   "metadata": {},
   "outputs": [
    {
     "name": "stdout",
     "output_type": "stream",
     "text": [
      "2.2.2\n"
     ]
    }
   ],
   "source": [
    "import pandas as pd\n",
    "print(pd.__version__)"
   ]
  }
 ],
 "metadata": {
  "kernelspec": {
   "display_name": "Python 3",
   "language": "python",
   "name": "python3"
  },
  "language_info": {
   "codemirror_mode": {
    "name": "ipython",
    "version": 3
   },
   "file_extension": ".py",
   "mimetype": "text/x-python",
   "name": "python",
   "nbconvert_exporter": "python",
   "pygments_lexer": "ipython3",
   "version": "3.12.1"
  }
 },
 "nbformat": 4,
 "nbformat_minor": 2
}
